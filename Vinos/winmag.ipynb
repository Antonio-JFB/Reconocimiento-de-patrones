{
  "nbformat": 4,
  "nbformat_minor": 0,
  "metadata": {
    "colab": {
      "provenance": []
    },
    "kernelspec": {
      "name": "python3",
      "display_name": "Python 3"
    },
    "language_info": {
      "name": "python"
    }
  },
  "cells": [
    {
      "cell_type": "markdown",
      "metadata": {
        "id": "45a34a6a-ae8a-4b2c-825e-95d5e96e61f6"
      },
      "source": [
        "### Vamos a practicar\n",
        "\n",
        "Para esta practica vamos a usar un conjunto de datos de la revista *wine magazine*,\n",
        "donde revisan una cantidad bastante sorprendente de vinos.\n",
        "\n",
        "Una descripción de la base de datos la encuentras [aquí](https://www.kaggle.com/zynicide/wine-reviews).\n",
        "Para no tener que descargar los datos a mano, se anexa la dirección `url` de donde se pueden descargar.\n",
        "\n",
        "Es importante notr que la primer columna del archivo `csv` es el índice (usar `index_col=0` cuando se descargue el archivo con `pd.read_csv`).\n",
        "\n",
        "Una vez descargado, usar pandas para las siguientes tareas:\n",
        "\n",
        "1. ¿Cuantas variables tiene el dataframe? ¿Qué variables tienen valores perdidos? ¿Qué variables son numéricas? ¿Qué variables son cualitativas?\n",
        "2. Hacer un dataframe con únicamente vinos europeos.\n",
        "3. ¿Cuál es el menor, el mayor y el precio promedio de la botella por país? ¿De que país es la botella de menor precio?\n",
        "4. ¿Cuantos vinos hay con *aroma a fresa* entre otras consideraciones snobs que vienen en la descripción?\n",
        "5. ¿Cuantas designaciones diferentes hay? ¿Cuál es la más repetida? ¿Cuantas veces se repite?\n",
        "6. Hacer un dataframe con la variedad, el país y el precio para vinos con un costo menor a los $20 dolares.\n",
        "7. ¿Cuantos vinos diferentes de la variedad *Pinot Noir* hay por cada país?\n"
      ]
    },
    {
      "cell_type": "code",
      "source": [
        "import pandas as pd"
      ],
      "metadata": {
        "id": "YTkxlE676WiT"
      },
      "execution_count": 3,
      "outputs": []
    },
    {
      "cell_type": "code",
      "execution_count": 4,
      "metadata": {
        "id": "494f6524-c998-4621-bb39-2e87893af244"
      },
      "outputs": [],
      "source": [
        "winmag_url = 'https://gist.githubusercontent.com/clairehq/79acab35be50eaf1c383948ed3fd1129/raw/407a02139ae1e134992b90b4b2b8c329b3d73a6a/winemag-data-130k-v2.csv'\n",
        "df = pd.read_csv(winmag_url)"
      ]
    },
    {
      "cell_type": "code",
      "execution_count": null,
      "metadata": {
        "id": "6a6db7cb-cf1a-466d-bad3-9231609ecf2b",
        "colab": {
          "base_uri": "https://localhost:8080/"
        },
        "outputId": "2294a3e9-d91e-4268-dd46-1077e1215a44"
      },
      "outputs": [
        {
          "output_type": "stream",
          "name": "stdout",
          "text": [
            "Número de variables: 14\n",
            "Variables con valores perdidos: ['country', 'designation', 'price', 'province', 'region_1', 'region_2', 'taster_name', 'taster_twitter_handle']\n",
            "Variables numéricas: ['Unnamed: 0', 'points', 'price']\n",
            "Variables cualitativas: ['country', 'description', 'designation', 'province', 'region_1', 'region_2', 'taster_name', 'taster_twitter_handle', 'title', 'variety', 'winery']\n"
          ]
        }
      ],
      "source": [
        "# ¿Cuantas variables tiene el dataframe?\n",
        "num_variables = df.shape[1]\n",
        "print(\"Número de variables:\", num_variables)\n",
        "#~~~~~~~~~~~~~~~~~~~~~~~~~~~~~~~~~~~~~~~~~~~~~~~~~\n",
        "# ¿Qué variables tienen valores perdidos?\n",
        "valores_perdidos = df.columns[df.isnull().any()].tolist()\n",
        "print(\"Variables con valores perdidos:\", valores_perdidos)\n",
        "#~~~~~~~~~~~~~~~~~~~~~~~~~~~~~~~~~~~~~~~~~~~~~~~~~\n",
        "# ¿Qué variables son numéricas?\n",
        "variables_numericas = df.select_dtypes(include=['number']).columns.tolist()\n",
        "print(\"Variables numéricas:\", variables_numericas)\n",
        "#~~~~~~~~~~~~~~~~~~~~~~~~~~~~~~~~~~~~~~~~~~~~~~~~~\n",
        "# ¿Qué variables son cualitativas?\n",
        "variables_cualitativas = df.select_dtypes(include=['object']).columns.tolist()\n",
        "print(\"Variables cualitativas:\", variables_cualitativas)\n",
        "\n"
      ]
    },
    {
      "cell_type": "code",
      "execution_count": 13,
      "metadata": {
        "id": "e76c10d7-5a10-45dc-a11f-c414043ad6b8",
        "colab": {
          "base_uri": "https://localhost:8080/"
        },
        "outputId": "e8f5ceda-6213-4245-e045-e06151704468"
      },
      "outputs": [
        {
          "output_type": "stream",
          "name": "stdout",
          "text": [
            "   Unnamed: 0   country                                        description  \\\n",
            "0           0     Italy  aromas include tropical fruit, broom, brimston...   \n",
            "1           1  Portugal  this is ripe and fruity, a wine that is smooth...   \n",
            "5           5     Spain  blackberry and raspberry aromas show a typical...   \n",
            "6           6     Italy  here's a bright, informal red that opens with ...   \n",
            "7           7    France  this dry and restrained wine offers spice in p...   \n",
            "\n",
            "    designation  points  price           province  region_1 region_2  \\\n",
            "0  Vulkà Bianco      87    NaN  Sicily & Sardinia      Etna      NaN   \n",
            "1      Avidagos      87   15.0              Douro       NaN      NaN   \n",
            "5  Ars In Vitro      87   15.0     Northern Spain   Navarra      NaN   \n",
            "6       Belsito      87   16.0  Sicily & Sardinia  Vittoria      NaN   \n",
            "7           NaN      87   24.0             Alsace    Alsace      NaN   \n",
            "\n",
            "         taster_name taster_twitter_handle  \\\n",
            "0      Kerin O’Keefe          @kerinokeefe   \n",
            "1         Roger Voss            @vossroger   \n",
            "5  Michael Schachner           @wineschach   \n",
            "6      Kerin O’Keefe          @kerinokeefe   \n",
            "7         Roger Voss            @vossroger   \n",
            "\n",
            "                                               title             variety  \\\n",
            "0                  Nicosia 2013 Vulkà Bianco  (Etna)         White Blend   \n",
            "1      Quinta dos Avidagos 2011 Avidagos Red (Douro)      Portuguese Red   \n",
            "5  Tandem 2011 Ars In Vitro Tempranillo-Merlot (N...  Tempranillo-Merlot   \n",
            "6   Terre di Giurfo 2013 Belsito Frappato (Vittoria)            Frappato   \n",
            "7              Trimbach 2012 Gewurztraminer (Alsace)      Gewürztraminer   \n",
            "\n",
            "                winery  snob  \n",
            "0              Nicosia  True  \n",
            "1  Quinta dos Avidagos  True  \n",
            "5               Tandem  True  \n",
            "6      Terre di Giurfo  True  \n",
            "7             Trimbach  True  \n"
          ]
        }
      ],
      "source": [
        "# Hacer un dataframe con únicamente vinos europeos.\n",
        "paises_eu = ['Italy', 'France', 'Spain', 'Portugal', 'Germany']\n",
        "\n",
        "df_europeo = df[df['country'].isin(paises_eu)]\n",
        "\n",
        "# Mostrar las primeras filas del nuevo DataFrame para verificar\n",
        "print(df_europeo.head())"
      ]
    },
    {
      "cell_type": "code",
      "execution_count": null,
      "metadata": {
        "id": "da4b68b2-42ba-4f62-b937-8bc6214c12cc",
        "colab": {
          "base_uri": "https://localhost:8080/"
        },
        "outputId": "3310bd1b-72e4-4eda-dcd4-339d698e3edb"
      },
      "outputs": [
        {
          "output_type": "stream",
          "name": "stdout",
          "text": [
            "Menor, mayor y precio promedio de la botella por país:\n",
            "                   country   min     max       mean\n",
            "0                Argentina   4.0   230.0  23.604663\n",
            "1                  Armenia  14.0    14.0  14.000000\n",
            "2                Australia   6.0   850.0  35.786701\n",
            "3                  Austria   7.0   150.0  30.846774\n",
            "4   Bosnia and Herzegovina  13.0    13.0  13.000000\n",
            "5                   Brazil  10.0    45.0  23.185185\n",
            "6                 Bulgaria   8.0    55.0  14.014706\n",
            "7                   Canada  12.0   120.0  35.575472\n",
            "8                    Chile   5.0   400.0  21.021544\n",
            "9                  Croatia  13.0    65.0  25.000000\n",
            "10                  Cyprus  11.0    21.0  16.000000\n",
            "11          Czech Republic  15.0    45.0  23.666667\n",
            "12                 England  25.0    80.0  51.636364\n",
            "13                  France   5.0  2500.0  41.577949\n",
            "14                 Georgia   9.0    40.0  18.270270\n",
            "15                 Germany   5.0   775.0  40.592233\n",
            "16                  Greece   8.0    79.0  21.845188\n",
            "17                 Hungary  10.0   764.0  50.819672\n",
            "18                   India  10.0    20.0  13.500000\n",
            "19                  Israel   8.0   100.0  31.508065\n",
            "20                   Italy   5.0   595.0  39.739836\n",
            "21                 Lebanon  13.0    75.0  30.400000\n",
            "22              Luxembourg  16.0    30.0  23.000000\n",
            "23               Macedonia  15.0    20.0  15.833333\n",
            "24                  Mexico   8.0    58.0  26.677419\n",
            "25                 Moldova   8.0    42.0  17.900000\n",
            "26                 Morocco  14.0    40.0  21.090909\n",
            "27             New Zealand   8.0   120.0  26.662906\n",
            "28                    Peru  10.0    68.0  20.500000\n",
            "29                Portugal   5.0  1000.0  25.647360\n",
            "30                 Romania   7.0   100.0  13.731343\n",
            "31                  Serbia  15.0    40.0  25.000000\n",
            "32                Slovakia  16.0    16.0  16.000000\n",
            "33                Slovenia   7.0    60.0  24.000000\n",
            "34            South Africa   8.0   330.0  24.293478\n",
            "35                   Spain   4.0   770.0  27.875925\n",
            "36             Switzerland  30.0   160.0  97.000000\n",
            "37                  Turkey  15.0   120.0  25.767442\n",
            "38                      US   4.0   750.0  36.344889\n",
            "39                 Ukraine   6.0    10.0   9.200000\n",
            "40                 Uruguay  10.0   120.0  26.737705\n",
            "\n",
            "El país con la botella de menor precio es Spain con un precio de 4.0\n"
          ]
        }
      ],
      "source": [
        "# ¿Cuál es el menor, el mayor y el precio promedio de la botella por país?\n",
        "# Calcular el menor, mayor y precio promedio por país\n",
        "precio_por_pais = df.groupby('country')['price'].agg(['min', 'max', 'mean']).reset_index()\n",
        "\n",
        "print(\"Menor, mayor y precio promedio de la botella por pais:\")\n",
        "print(precio_por_pais)\n",
        "# ¿De que país es la botella de menor precio?\n",
        "pais_menor_precio = df.loc[df['price'].idxmin(), 'country']\n",
        "botella_menor_precio = df['price'].min()\n",
        "\n",
        "print(f\"\\nEl pais con la botella de menor precio es {pais_menor_precio} con un precio de {botella_menor_precio}\")"
      ]
    },
    {
      "cell_type": "code",
      "execution_count": 11,
      "metadata": {
        "id": "41b1e672-4df1-436f-b8df-a616c9297986",
        "colab": {
          "base_uri": "https://localhost:8080/"
        },
        "outputId": "0f66dc4a-0bd6-4d62-b977-084b3c69c3b2"
      },
      "outputs": [
        {
          "output_type": "stream",
          "name": "stdout",
          "text": [
            "Número de vinos con consideraciones 'snobs' en la descripción: 51211\n"
          ]
        }
      ],
      "source": [
        "# ¿Cuantos vinos hay con *aroma a fresa* entre otras consideraciones snobs que vienen en la descripción?\n",
        "palabras_snobs = ['elegant', 'nuance', 'minerality', 'hint', 'structure', 'balance', 'complexity', 'oak', 'tannins', 'acidity', 'finish']\n",
        "\n",
        "def tiene_palabras_snobs(description):\n",
        "    return any(palabra in description for palabra in palabras_snobs)\n",
        "\n",
        "df['snob'] = df['description'].apply(tiene_palabras_snobs)\n",
        "\n",
        "num_vinos_snobs = df['snob'].sum()\n",
        "\n",
        "print(f\"Número de vinos con consideraciones 'snobs' en la descripción: {num_vinos_snobs}\")"
      ]
    },
    {
      "cell_type": "code",
      "execution_count": 15,
      "metadata": {
        "id": "ad7c7b0a-9c9c-4975-865f-9d02c90c9002",
        "colab": {
          "base_uri": "https://localhost:8080/"
        },
        "outputId": "559158fd-d9e3-4dd2-f152-27639e16be19"
      },
      "outputs": [
        {
          "output_type": "stream",
          "name": "stdout",
          "text": [
            "Número de designaciones diferentes: 24187\n",
            "La designación más repetida es: Reserve\n",
            "Se repite 999 veces\n"
          ]
        }
      ],
      "source": [
        "# ¿Cuantas designaciones diferentes hay? ¿Cuál es la más repetida? ¿Cuantas veces se repite?\n",
        "# Contar cuántas designaciones diferentes hay\n",
        "num_designaciones_diferentes = df['designation'].nunique()\n",
        "\n",
        "# Encontrar la designación más repetida y cuántas veces se repite\n",
        "mas_repetida = df['designation'].value_counts().idxmax()\n",
        "cantidad = df['designation'].value_counts().max()\n",
        "\n",
        "# Resultados\n",
        "print(f\"Número de designaciones diferentes: {num_designaciones_diferentes}\")\n",
        "print(f\"La designación más repetida es: {mas_repetida}\")\n",
        "print(f\"Se repite {cantidad} veces\")\n"
      ]
    },
    {
      "cell_type": "code",
      "execution_count": null,
      "metadata": {
        "id": "a2c0a822-b184-426e-b6b7-22b9dba74c7c",
        "colab": {
          "base_uri": "https://localhost:8080/"
        },
        "outputId": "474a4144-bde5-4cc6-8696-7aea97449ed5"
      },
      "outputs": [
        {
          "output_type": "stream",
          "name": "stdout",
          "text": [
            "              variety   country  price\n",
            "1      Portuguese Red  Portugal   15.0\n",
            "2          Pinot Gris        US   14.0\n",
            "3            Riesling        US   13.0\n",
            "5  Tempranillo-Merlot     Spain   15.0\n",
            "6            Frappato     Italy   16.0\n"
          ]
        }
      ],
      "source": [
        "# Hacer un dataframe con la variedad, el país y el precio para vinos con un costo menor a los $20 dolares\n",
        "vinos_menor_20 = df[df['price'] < 20]\n",
        "df_vinos_menor_20 = vinos_menor_20[['variety', 'country', 'price']]\n",
        "print(df_vinos_menor_20.head())"
      ]
    },
    {
      "cell_type": "code",
      "execution_count": null,
      "metadata": {
        "id": "10937ee8-a0a6-4164-8964-ead7b97acfd0",
        "colab": {
          "base_uri": "https://localhost:8080/"
        },
        "outputId": "8ae623c4-d02e-4c73-f2c2-90edd28b1d1c"
      },
      "outputs": [
        {
          "output_type": "stream",
          "name": "stdout",
          "text": [
            "country\n",
            "US              4918\n",
            "France          1001\n",
            "New Zealand      281\n",
            "Chile            184\n",
            "Australia         58\n",
            "Austria           51\n",
            "Argentina         46\n",
            "Germany           31\n",
            "South Africa      21\n",
            "Bulgaria           9\n",
            "Canada             8\n",
            "Romania            8\n",
            "Portugal           7\n",
            "Spain              6\n",
            "Israel             5\n",
            "England            5\n",
            "Italy              4\n",
            "Uruguay            3\n",
            "Slovenia           3\n",
            "Switzerland        2\n",
            "Brazil             2\n",
            "Croatia            1\n",
            "Name: count, dtype: int64\n"
          ]
        }
      ],
      "source": [
        "# ¿Cuantos vinos diferentes de la variedad *Pinot Noir* hay por cada país?\n",
        "# Filtrar los vinos de la variedad 'Pinot Noir'\n",
        "pinot_noir_vinos = df[df['variety'] == 'Pinot Noir']\n",
        "\n",
        "# Contar cuántos vinos de Pinot Noir hay por cada país\n",
        "pinot_noir_por_pais = pinot_noir_vinos['country'].value_counts()\n",
        "\n",
        "# Mostrar el resultado\n",
        "print(pinot_noir_por_pais)"
      ]
    }
  ]
}